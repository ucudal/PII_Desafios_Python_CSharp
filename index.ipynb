{
 "cells": [
  {
   "cell_type": "markdown",
   "id": "46dfb674",
   "metadata": {},
   "source": [
    "# Desafíos de programación en C# para desarrolladores Python\n",
    "\n",
    "A continuación verás varios ejemplos de código en Python y, debajo, un espacio para escrbir el código equivalente en C#. Para ejecutar el código que has escrito, oprime `Ctrl+Enter` tanto en Mac como en Windows.\n",
    "\n",
    "Los dos primeros ejemplos te lo damos resueltos, completa tú los demás."
   ]
  },
  {
   "cell_type": "markdown",
   "id": "85d31534",
   "metadata": {},
   "source": [
    "### Ejemplo 1\n",
    "\n",
    "El siguiente código Python imprime `Hello World!` en la consola:\n",
    "\n",
    "```python\n",
    "print(\"Hello World!\")\n",
    "```\n",
    "\n",
    "Escribe a continuación el código equivalente en C#. Busca en la [Ayuda de C# para programadores Python](https://github.com/ucudal/PII_Ayuda_Csharp_Python) el equivalente al `print()` de Python.\n",
    "\n",
    "Recuerda oprimir `Ctrl+Enter` para ejecutar el código que has escrito."
   ]
  },
  {
   "cell_type": "code",
   "execution_count": null,
   "metadata": {
    "language_info": {
     "name": "polyglot-notebook"
    },
    "polyglot_notebook": {
     "kernelName": "csharp"
    }
   },
   "outputs": [],
   "source": [
    "Console.WriteLine(\"Hello World!\");"
   ]
  },
  {
   "cell_type": "markdown",
   "id": "3eb0732a",
   "metadata": {},
   "source": [
    "### Ejemplo 2\n",
    "\n",
    "El siguiente código Python asigna una cadena de texto a una variable llamada `text`; luego imprime el contenido en esa variable `text` en la consola:\n",
    "\n",
    "```python\n",
    "text = \"Esto es un texto\"\n",
    "print(text)\n",
    "```\n",
    "\n",
    "Escribe a continuación el código equivalente en C#. Ten en cuenta que en C# vas a tener que declarar el tipo de la variable `text`, que será `string`.\n",
    "\n",
    "Recuerda oprimir `Ctrl+Enter` para ejecutar el código que has escrito."
   ]
  },
  {
   "cell_type": "code",
   "execution_count": null,
   "metadata": {
    "language_info": {
     "name": "polyglot-notebook"
    },
    "polyglot_notebook": {
     "kernelName": "csharp"
    }
   },
   "outputs": [],
   "source": [
    "string text = \"Esto es un texto\";\n",
    "Console.WriteLine(text);"
   ]
  },
  {
   "cell_type": "markdown",
   "metadata": {
    "language_info": {
     "name": "polyglot-notebook"
    },
    "polyglot_notebook": {
     "kernelName": "csharp"
    }
   },
   "source": [
    "### Ejemplo 3\n",
    "\n",
    "El siguiente código Python asigna un entero a una variable llamada `number` y luego imprime un mensaje dependiendo de que el valor de esa variable sea positivo o negativo.\n",
    "\n",
    "```python\n",
    "number = -5\n",
    "if number > 0:\n",
    "    print(\"El número es positivo\")\n",
    "else:\n",
    "    print(\"El número es negativo\")\n",
    "```\n",
    "\n",
    "Escribe a continuación el código equivalente en C#. Ten en cuenta que en C# vas a tener que declarar el tipo de la variable `number`, que será `int`.\n",
    "\n",
    "Prueba con diferentes valores para `number` y observa cómo cambia el mensaje impreso.\n",
    "\n",
    "Recuerda oprimir `Ctrl+Enter` para ejecutar el código que has escrito."
   ]
  },
  {
   "cell_type": "code",
   "execution_count": null,
   "metadata": {
    "language_info": {
     "name": "polyglot-notebook"
    },
    "polyglot_notebook": {
     "kernelName": "csharp"
    }
   },
   "outputs": [],
   "source": []
  },
  {
   "cell_type": "markdown",
   "metadata": {
    "language_info": {
     "name": "polyglot-notebook"
    },
    "polyglot_notebook": {
     "kernelName": "csharp"
    }
   },
   "source": [
    "### Ejemplo 4\n",
    "\n",
    "El siguiente código Python asigna un entero a una variable llamada `number` y luego imprime un mensaje dependiendo de que el valor de esa variable sea positivo, negativo, o cero.\n",
    "\n",
    "```python\n",
    "number = -5\n",
    "if number > 0:\n",
    "    print(\"El número es positivo\")\n",
    "elif number < 0:\n",
    "    print(\"El número es negativo\")\n",
    "else:\n",
    "    print(\"El número es cero\")\n",
    "```\n",
    "\n",
    "Escribe a continuación el código equivalente en C#. Busca en la [Ayuda de C# para programadores Python](https://github.com/ucudal/PII_Ayuda_Csharp_Python) el equivalente al `if-else-elif` de Python.\n",
    "\n",
    "Prueba con diferentes valores para `number` y observa cómo cambia el mensaje impreso.\n",
    "\n",
    "Recuerda oprimir `Ctrl+Enter` para ejecutar el código que has escrito."
   ]
  },
  {
   "cell_type": "code",
   "execution_count": null,
   "metadata": {
    "language_info": {
     "name": "polyglot-notebook"
    },
    "polyglot_notebook": {
     "kernelName": "csharp"
    }
   },
   "outputs": [],
   "source": []
  }
 ],
 "metadata": {
  "kernelspec": {
   "display_name": ".NET (C#)",
   "language": "C#",
   "name": ".net-csharp"
  },
  "language_info": {
   "codemirror_mode": {
    "name": "ipython",
    "version": 3
   },
   "file_extension": ".py",
   "mimetype": "text/x-python",
   "name": "polyglot-notebook",
   "nbconvert_exporter": "python",
   "pygments_lexer": "ipython3",
   "version": "3.9.6"
  },
  "polyglot_notebook": {
   "kernelInfo": {
    "defaultKernelName": "csharp",
    "items": [
     {
      "aliases": [],
      "languageName": "csharp",
      "name": "csharp"
     }
    ]
   }
  }
 },
 "nbformat": 4,
 "nbformat_minor": 5
}
